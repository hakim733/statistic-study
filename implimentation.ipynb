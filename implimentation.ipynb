{
 "cells": [
  {
   "cell_type": "markdown",
   "id": "7668dd61-36aa-49e3-84e7-3896946098f2",
   "metadata": {
    "editable": true,
    "slideshow": {
     "slide_type": ""
    },
    "tags": []
   },
   "source": [
    "                                           statistic_project"
   ]
  },
  {
   "cell_type": "markdown",
   "id": "343b9318-49f6-4ebc-b0da-87d371b745e5",
   "metadata": {},
   "source": [
    "### Loading libraries and data "
   ]
  },
  {
   "cell_type": "code",
   "execution_count": 19,
   "id": "2ea2747f-d139-4544-bdb0-a7e9840e681b",
   "metadata": {},
   "outputs": [],
   "source": [
    "import pandas as pd\n",
    "import matplotlib.pyplot as plt\n",
    "import statsmodels.api as sm\n",
    "from sklearn.linear_model import LinearRegression\n",
    "from sklearn.metrics import r2_score\n",
    "import seaborn as sns\n",
    "from sklearn.model_selection import train_test_split\n",
    "from sklearn.metrics import r2_score\n",
    "from sklearn.feature_selection import f_regression\n",
    "import numpy as np\n",
    "\n",
    "\n"
   ]
  },
  {
   "cell_type": "code",
   "execution_count": 20,
   "id": "cec153fa-09f0-4830-8bc3-72e96982fd1b",
   "metadata": {},
   "outputs": [],
   "source": [
    "data = pd.read_excel(\"/Users/mac/Desktop/statistics-labs/Data_source.xlsx\")\n"
   ]
  },
  {
   "cell_type": "code",
   "execution_count": 21,
   "id": "b128224c-710d-4d9c-be96-cbad88d2dfd1",
   "metadata": {},
   "outputs": [
    {
     "data": {
      "text/html": [
       "<div>\n",
       "<style scoped>\n",
       "    .dataframe tbody tr th:only-of-type {\n",
       "        vertical-align: middle;\n",
       "    }\n",
       "\n",
       "    .dataframe tbody tr th {\n",
       "        vertical-align: top;\n",
       "    }\n",
       "\n",
       "    .dataframe thead th {\n",
       "        text-align: right;\n",
       "    }\n",
       "</style>\n",
       "<table border=\"1\" class=\"dataframe\">\n",
       "  <thead>\n",
       "    <tr style=\"text-align: right;\">\n",
       "      <th></th>\n",
       "      <th>Id</th>\n",
       "      <th>ethnicgp</th>\n",
       "      <th>gender</th>\n",
       "      <th>age</th>\n",
       "      <th>years</th>\n",
       "      <th>commit</th>\n",
       "      <th>satis</th>\n",
       "      <th>autonom</th>\n",
       "      <th>routine</th>\n",
       "      <th>attend</th>\n",
       "      <th>skill</th>\n",
       "      <th>prody</th>\n",
       "      <th>qual</th>\n",
       "      <th>absence</th>\n",
       "      <th>income</th>\n",
       "    </tr>\n",
       "  </thead>\n",
       "  <tbody>\n",
       "    <tr>\n",
       "      <th>0</th>\n",
       "      <td>1</td>\n",
       "      <td>1</td>\n",
       "      <td>1</td>\n",
       "      <td>29.0</td>\n",
       "      <td>1.0</td>\n",
       "      <td>4.0</td>\n",
       "      <td>NaN</td>\n",
       "      <td>10</td>\n",
       "      <td>9</td>\n",
       "      <td>2</td>\n",
       "      <td>3</td>\n",
       "      <td>NaN</td>\n",
       "      <td>1</td>\n",
       "      <td>7.0</td>\n",
       "      <td>16.6</td>\n",
       "    </tr>\n",
       "    <tr>\n",
       "      <th>1</th>\n",
       "      <td>2</td>\n",
       "      <td>2</td>\n",
       "      <td>1</td>\n",
       "      <td>26.0</td>\n",
       "      <td>5.0</td>\n",
       "      <td>2.0</td>\n",
       "      <td>NaN</td>\n",
       "      <td>7</td>\n",
       "      <td>15</td>\n",
       "      <td>1</td>\n",
       "      <td>3</td>\n",
       "      <td>4.0</td>\n",
       "      <td>4</td>\n",
       "      <td>8.0</td>\n",
       "      <td>14.6</td>\n",
       "    </tr>\n",
       "    <tr>\n",
       "      <th>2</th>\n",
       "      <td>3</td>\n",
       "      <td>3</td>\n",
       "      <td>1</td>\n",
       "      <td>40.0</td>\n",
       "      <td>5.0</td>\n",
       "      <td>4.0</td>\n",
       "      <td>15.0</td>\n",
       "      <td>7</td>\n",
       "      <td>8</td>\n",
       "      <td>1</td>\n",
       "      <td>4</td>\n",
       "      <td>3.0</td>\n",
       "      <td>4</td>\n",
       "      <td>0.0</td>\n",
       "      <td>17.8</td>\n",
       "    </tr>\n",
       "    <tr>\n",
       "      <th>3</th>\n",
       "      <td>4</td>\n",
       "      <td>3</td>\n",
       "      <td>1</td>\n",
       "      <td>46.0</td>\n",
       "      <td>15.0</td>\n",
       "      <td>2.0</td>\n",
       "      <td>7.0</td>\n",
       "      <td>7</td>\n",
       "      <td>10</td>\n",
       "      <td>2</td>\n",
       "      <td>3</td>\n",
       "      <td>3.0</td>\n",
       "      <td>4</td>\n",
       "      <td>4.0</td>\n",
       "      <td>16.4</td>\n",
       "    </tr>\n",
       "    <tr>\n",
       "      <th>4</th>\n",
       "      <td>5</td>\n",
       "      <td>2</td>\n",
       "      <td>2</td>\n",
       "      <td>63.0</td>\n",
       "      <td>36.0</td>\n",
       "      <td>4.0</td>\n",
       "      <td>14.0</td>\n",
       "      <td>11</td>\n",
       "      <td>18</td>\n",
       "      <td>1</td>\n",
       "      <td>3</td>\n",
       "      <td>5.0</td>\n",
       "      <td>3</td>\n",
       "      <td>0.0</td>\n",
       "      <td>18.6</td>\n",
       "    </tr>\n",
       "  </tbody>\n",
       "</table>\n",
       "</div>"
      ],
      "text/plain": [
       "   Id  ethnicgp  gender   age  years  commit  satis  autonom  routine  attend  \\\n",
       "0   1         1       1  29.0    1.0     4.0    NaN       10        9       2   \n",
       "1   2         2       1  26.0    5.0     2.0    NaN        7       15       1   \n",
       "2   3         3       1  40.0    5.0     4.0   15.0        7        8       1   \n",
       "3   4         3       1  46.0   15.0     2.0    7.0        7       10       2   \n",
       "4   5         2       2  63.0   36.0     4.0   14.0       11       18       1   \n",
       "\n",
       "   skill  prody  qual  absence  income  \n",
       "0      3    NaN     1      7.0    16.6  \n",
       "1      3    4.0     4      8.0    14.6  \n",
       "2      4    3.0     4      0.0    17.8  \n",
       "3      3    3.0     4      4.0    16.4  \n",
       "4      3    5.0     3      0.0    18.6  "
      ]
     },
     "execution_count": 21,
     "metadata": {},
     "output_type": "execute_result"
    }
   ],
   "source": [
    "data.head(5)\n"
   ]
  },
  {
   "cell_type": "markdown",
   "id": "6f695db7-6e88-4109-861d-6b4a9b3ce61f",
   "metadata": {},
   "source": [
    "## Gender-barchart"
   ]
  },
  {
   "cell_type": "markdown",
   "id": "183885fb-b3ed-4a6f-abb1-7720d01f97dd",
   "metadata": {},
   "source": [
    "###### Count the somma of each gender"
   ]
  },
  {
   "cell_type": "code",
   "execution_count": 22,
   "id": "7d58bd52-d2a0-4396-88db-5948569fa3cd",
   "metadata": {},
   "outputs": [],
   "source": [
    "gender_counts = data['gender'].value_counts()\n"
   ]
  },
  {
   "cell_type": "markdown",
   "id": "2221685e-da84-44f3-961c-c6fe125f1b3e",
   "metadata": {},
   "source": [
    "###### plot the graph using matplotlib library"
   ]
  },
  {
   "cell_type": "code",
   "execution_count": 23,
   "id": "ee846d9e-6596-4a72-b9c4-21a84760dc41",
   "metadata": {},
   "outputs": [
    {
     "data": {
      "image/png": "[encoded data removed]",
      "text/plain": [
       "<Figure size 500x200 with 1 Axes>"
      ]
     },
     "metadata": {},
     "output_type": "display_data"
    }
   ],
   "source": [
    "\n",
    "plt.figure(figsize=(5, 2))\n",
    "gender_counts.plot(kind='bar', color=['skyblue', 'lightgreen'])\n",
    "plt.title('Gender Distribution')\n",
    "plt.xlabel('Gender (1 = Male, 2 = Female)')\n",
    "plt.ylabel('Count')\n",
    "plt.xticks(rotation=0)\n",
    "plt.show()"
   ]
  },
  {
   "cell_type": "markdown",
   "id": "caf8fe41-004d-4988-9b4d-d41d22bb9524",
   "metadata": {},
   "source": [
    "## Ethnic group"
   ]
  },
  {
   "cell_type": "code",
   "execution_count": 24,
   "id": "9ececf36-1474-4413-abab-82b1fef9ec72",
   "metadata": {},
   "outputs": [
    {
     "data": {
      "image/png": "[encoded data removed]",
      "text/plain": [
       "<Figure size 300x300 with 1 Axes>"
      ]
     },
     "metadata": {},
     "output_type": "display_data"
    }
   ],
   "source": [
    "ethnic_counts = data['ethnicgp'].value_counts().sort_index()\n",
    "\n",
    "# Mapping numeric codes to actual ethnic group names\n",
    "ethnic_labels_mapping = {1: 'White', 2: 'Asian', 3: 'West Indian', 4: 'African', 5: 'Other'}\n",
    "ethnic_labels = [ethnic_labels_mapping[ethnic] for ethnic in ethnic_counts.index]\n",
    "\n",
    "# Create the pie chart with labels inside each slice\n",
    "plt.figure(figsize=(3, 3))\n",
    "plt.pie(ethnic_counts, labels=ethnic_labels, autopct='%1.1f%%', pctdistance=0.8, startangle=140)\n",
    "plt.title(\" Distribution\")\n",
    "plt.axis('equal')  # Equal aspect ratio ensures that pie is drawn as a circle.\n",
    "\n",
    "plt.show()"
   ]
  },
  {
   "cell_type": "markdown",
   "id": "c11f7f6a-1933-49e7-ad7d-38fd3c0710ee",
   "metadata": {},
   "source": [
    "## B)The five number summaries"
   ]
  },
  {
   "cell_type": "code",
   "execution_count": 25,
   "id": "b4706924-999a-4cc8-a6af-98962d7bedf9",
   "metadata": {},
   "outputs": [],
   "source": [
    "age_summary = data['age'].describe(percentiles=[0.25, 0.5, 0.75])\n",
    "min_age = age_summary['min']\n",
    "q1_age = age_summary['25%']\n",
    "median_age = age_summary['50%']\n",
    "q3_age = age_summary['75%']\n",
    "max_age = age_summary['max']\n",
    "\n",
    "# Display the five number summary\n",
    "age_summary_values = {\n",
    "    'Min': min_age,\n",
    "    'Q1 (25%)': q1_age,\n",
    "    'Median': median_age,\n",
    "    'Q3 (75%)': q3_age,\n",
    "    'Max': max_age\n",
    "}"
   ]
  },
  {
   "cell_type": "code",
   "execution_count": 26,
   "id": "9d1a2da4-1a0c-4f4c-98d6-e548ee7855de",
   "metadata": {},
   "outputs": [
    {
     "name": "stdout",
     "output_type": "stream",
     "text": [
      "Maxiumum= 63.0 Minumium= 18.0 Q1 (25%)=  29.0 Median =  39.0  Q3(75%) = 50.0 Max= 63.0\n"
     ]
    }
   ],
   "source": [
    "print(\"Maxiumum=\",max_age, \"Minumium=\", min_age, \"Q1 (25%)= \", q1_age, \"Median = \",median_age , \" Q3(75%) =\", q3_age, \"Max=\",max_age )"
   ]
  },
  {
   "cell_type": "code",
   "execution_count": 27,
   "id": "8baf71e9-b2de-49a5-80ac-44735ec98218",
   "metadata": {},
   "outputs": [
    {
     "data": {
      "image/png": "[encoded data removed]",
      "text/plain": [
       "<Figure size 300x300 with 1 Axes>"
      ]
     },
     "metadata": {},
     "output_type": "display_data"
    }
   ],
   "source": [
    "plt.figure(figsize=(3, 3))\n",
    "plt.boxplot(\n",
    "    [[age_summary['min'], age_summary['25%'], \n",
    "      age_summary['50%'], age_summary['75%'], \n",
    "      age_summary['max']]], \n",
    "    vert=False, patch_artist=True,\n",
    "    boxprops=dict(facecolor='lightblue', color='black'),\n",
    "    medianprops=dict(color='red'),\n",
    "    whiskerprops=dict(color='black'),\n",
    "    capprops=dict(color='black')\n",
    ")\n",
    "\n",
    "# Set labels and titles\n",
    "plt.title(\" Box Plot of Age\")\n",
    "plt.xlabel('Age')\n",
    "plt.grid(True, axis='x', linestyle='--', alpha=0.7)\n",
    "\n",
    "# Show the plot\n",
    "plt.show()"
   ]
  },
  {
   "cell_type": "markdown",
   "id": "4818f549-9e60-4659-9e21-b13c50aa388a",
   "metadata": {},
   "source": [
    " 25% of the participants in the survey are younger than 29 years, half of the partcipants are younger than 39 years old and the other half are older than 39 years old\n",
    " The middle 50% of all participants are between 29 and 50 years old, no outliers, indicating a fairly even age distribution."
   ]
  },
  {
   "cell_type": "markdown",
   "id": "ab0236f8-324c-4d43-99ba-989902797780",
   "metadata": {},
   "source": [
    "## C)Mean and standard deviation"
   ]
  },
  {
   "cell_type": "code",
   "execution_count": 28,
   "id": "dbebbb08-532c-44b0-9456-8b096195d115",
   "metadata": {},
   "outputs": [
    {
     "name": "stdout",
     "output_type": "stream",
     "text": [
      "the mean of the income is = 15.63823529411765 the standard deviation of the income is = 1.9958935014633157\n"
     ]
    }
   ],
   "source": [
    "mean_income = data['income'].mean()\n",
    "std_income = data['income'].std()\n",
    "print(\"the mean of the income is =\", mean_income, \"the standard deviation of the income is =\",std_income)"
   ]
  },
  {
   "cell_type": "code",
   "execution_count": 29,
   "id": "65ce7118-191a-4181-b237-0340e0079d43",
   "metadata": {},
   "outputs": [
    {
     "data": {
      "image/png": "[encoded data removed]",
      "text/plain": [
       "<Figure size 700x200 with 1 Axes>"
      ]
     },
     "metadata": {},
     "output_type": "display_data"
    }
   ],
   "source": [
    "plt.figure(figsize=(7, 2))\n",
    "plt.hist(data['income'], bins=10, color='skyblue', edgecolor='black')\n",
    "plt.title('Histogram of Income')\n",
    "plt.xlabel('Income (in 1000£)')\n",
    "plt.ylabel('Frequency')\n",
    "plt.grid(True, axis='y', linestyle='--', alpha=0.7)"
   ]
  },
  {
   "cell_type": "markdown",
   "id": "e63be670-41c8-4660-ad80-921e8a65927a",
   "metadata": {},
   "source": [
    "Mean annual income = £15.638 and the standard deviation = £1.995 ==> most individuals' incomes fall between £13,643 and £17,633."
   ]
  },
  {
   "cell_type": "markdown",
   "id": "b0880f77-912c-4ec5-ad6c-67f3dd0c5974",
   "metadata": {},
   "source": [
    "Relationship between income and absence."
   ]
  },
  {
   "cell_type": "markdown",
   "id": "6d84cd8e-bc70-4bbd-8699-8b7bab072b7d",
   "metadata": {},
   "source": []
  },
  {
   "cell_type": "code",
   "execution_count": 30,
   "id": "a3dca35b-b916-44d8-ac80-06750049116c",
   "metadata": {},
   "outputs": [
    {
     "data": {
      "image/png": "[encoded data removed]",
      "text/plain": [
       "<Figure size 800x300 with 1 Axes>"
      ]
     },
     "metadata": {},
     "output_type": "display_data"
    }
   ],
   "source": [
    "plt.figure(figsize=(8, 3))\n",
    "plt.scatter(data['income'], data['absence'], color='blue', edgecolor='black')\n",
    "plt.title('Scatter Plot of Income vs Absence')\n",
    "plt.xlabel('Income (in 1000£)')\n",
    "plt.ylabel('Absence (Days)')\n",
    "plt.grid(True, linestyle='-', alpha=0.7)\n",
    "\n",
    "# Show the scatter plot\n",
    "plt.show()"
   ]
  },
  {
   "cell_type": "markdown",
   "id": "c159727f-afb6-4b4f-a923-39a7b2d70254",
   "metadata": {},
   "source": [
    "=> it seems there is no clear trends between the two variables (Absence and income), there is no relationship between the two variables."
   ]
  },
  {
   "cell_type": "markdown",
   "id": "83ec8fc4-14c3-4b48-93e5-b3a503849515",
   "metadata": {},
   "source": [
    "### The simple regression model where income is dependent variable and absence is independent variable."
   ]
  },
  {
   "cell_type": "markdown",
   "id": "be228c87-c188-4eb5-9dea-efaedbef9b59",
   "metadata": {},
   "source": [
    "## In this part we are going to use the library scikit-learn of pyhton. \n",
    "\n",
    "Check and drop the missing values :first we should Make sure there is no NaN value in both variables, once the data is clean we can run the regression model "
   ]
  },
  {
   "cell_type": "markdown",
   "id": "14be3f74-f7ff-4b77-9af8-07e2df13dca9",
   "metadata": {},
   "source": [
    "Next we find the regression model and the detrmination coefficient, for the linear regression we are goiung to use the linear regression function in the scikit learn learn library.\n"
   ]
  },
  {
   "cell_type": "code",
   "execution_count": 31,
   "id": "2c4a19a6-be1c-4821-ba3b-6d40c9ea12ca",
   "metadata": {},
   "outputs": [
    {
     "name": "stdout",
     "output_type": "stream",
     "text": [
      "Intercept: 16.325322949730566\n",
      "Slope: -0.14312024802539305\n",
      "The Linear regression model: y = 16.325 + -0.143 * x\n",
      "R-squared (Determination Coefficient): 0.06243389452270087\n"
     ]
    }
   ],
   "source": [
    "\n",
    "# Clean the data and removing NaN values\n",
    "df_clean = data[['income', 'absence']].dropna()\n",
    "\n",
    "# Define x and y \n",
    "X = df_clean[['absence']]  # Independent \n",
    "y = df_clean['income']     # Dependent \n",
    "\n",
    "# Create linear regression model using scikit-learn\n",
    "model = LinearRegression()\n",
    "model.fit(X, y)\n",
    "\n",
    "# Get the slope and intercept\n",
    "intercept = model.intercept_\n",
    "slope = model.coef_[0]\n",
    "\n",
    "# Step 6: Predict income using absence\n",
    "y_pred = model.predict(X)\n",
    "\n",
    "# Calculate the R-squared \n",
    "r_squared = r2_score(y, y_pred)\n",
    "\n",
    "# The results\n",
    "print(f\"Intercept: {intercept}\")\n",
    "print(f\"Slope: {slope}\")\n",
    "print(f\"The Linear regression model: y = {intercept:.3f} + {slope:.3f} * x\")\n",
    "print(f\"R-squared (Determination Coefficient): {r_squared}\")\n"
   ]
  },
  {
   "cell_type": "markdown",
   "id": "4606163b-f6df-4851-9ef1-a832e934c313",
   "metadata": {},
   "source": [
    "Interpretation : β0 = 16,325 this means if there is no absense the predicted income would be £16,325.\n",
    "β1 = -0.1431 this means for each day of absense the income decrease with 0.1431£.\n",
    "R-squared: 0.06243 this explain the variability of income according to the variability of absense, in our case it is 62.43 % ==>62.43 % of the variance of the income is is explained by the absence; the remaining 37.57% is unexplained by the model ==>  suggest there is no big relationship between the 2 variables."
   ]
  },
  {
   "cell_type": "markdown",
   "id": "9663310f-9d93-4d2c-9721-23811b48ffbd",
   "metadata": {},
   "source": [
    "### Studying the multiple regression model with satis as dependent variable and commit, autonom, income,skill, rated quality, age, years as independent variables."
   ]
  },
  {
   "cell_type": "markdown",
   "id": "2a975563-554c-4fc3-afc8-6866eadb5656",
   "metadata": {},
   "source": [
    "# a)"
   ]
  },
  {
   "cell_type": "markdown",
   "id": "d23d6977-6858-45bc-b386-cfb5e9f579e1",
   "metadata": {},
   "source": [
    "we will use scikit-learn as in 1.2 it is a python library that makes life easier when finding the multiple regression:\n",
    "Lets define job sattisfaction(satis) as a dependant variable and  commit, autonom, income,skill, rated quality, age, years as independent variables :"
   ]
  },
  {
   "cell_type": "code",
   "execution_count": 32,
   "id": "cecf4ee7-b1fc-4db6-b34a-72cc5768b7f7",
   "metadata": {},
   "outputs": [
    {
     "name": "stdout",
     "output_type": "stream",
     "text": [
      "                            OLS Regression Results                            \n",
      "==============================================================================\n",
      "Dep. Variable:                  satis   R-squared:                       0.809\n",
      "Model:                            OLS   Adj. R-squared:                  0.785\n",
      "Method:                 Least Squares   F-statistic:                     32.72\n",
      "Date:                Fri, 25 Oct 2024   Prob (F-statistic):           3.00e-17\n",
      "Time:                        22:55:56   Log-Likelihood:                -110.16\n",
      "No. Observations:                  62   AIC:                             236.3\n",
      "Df Residuals:                      54   BIC:                             253.3\n",
      "Df Model:                           7                                         \n",
      "Covariance Type:            nonrobust                                         \n",
      "==============================================================================\n",
      "                 coef    std err          t      P>|t|      [0.025      0.975]\n",
      "------------------------------------------------------------------------------\n",
      "const         -4.5545      1.776     -2.564      0.013      -8.115      -0.994\n",
      "commit         0.9654      0.219      4.402      0.000       0.526       1.405\n",
      "autonom        0.3953      0.090      4.391      0.000       0.215       0.576\n",
      "income         0.4141      0.157      2.635      0.011       0.099       0.729\n",
      "skill          0.6105      0.200      3.048      0.004       0.209       1.012\n",
      "qual           0.2329      0.162      1.440      0.156      -0.091       0.557\n",
      "age            0.0124      0.037      0.340      0.735      -0.061       0.086\n",
      "years         -0.0147      0.033     -0.441      0.661      -0.082       0.052\n",
      "==============================================================================\n",
      "Omnibus:                        0.508   Durbin-Watson:                   2.102\n",
      "Prob(Omnibus):                  0.776   Jarque-Bera (JB):                0.658\n",
      "Skew:                          -0.149   Prob(JB):                        0.720\n",
      "Kurtosis:                       2.593   Cond. No.                         443.\n",
      "==============================================================================\n",
      "\n",
      "Notes:\n",
      "[1] Standard Errors assume that the covariance matrix of the errors is correctly specified.\n"
     ]
    }
   ],
   "source": [
    "# Clean the data by dropping rows with missing values in specific columns\n",
    "df_clean = data[['satis', 'commit', 'autonom', 'income', 'skill', 'qual', 'age', 'years']].dropna()\n",
    "\n",
    "# Define the independent variables (X) and the dependent variable (y)\n",
    "X = df_clean[['commit', 'autonom', 'income', 'skill', 'qual', 'age', 'years']]\n",
    "y = df_clean['satis']\n",
    "\n",
    "# Add a constant to the independent variables (needed for statsmodels)\n",
    "X = sm.add_constant(X)\n",
    "\n",
    "# Fit the multiple regression model\n",
    "model = sm.OLS(y, X).fit()\n",
    "\n",
    "# Display the regression results\n",
    "print(model.summary())\n"
   ]
  },
  {
   "cell_type": "markdown",
   "id": "3c9f7347-47a3-4a8f-931c-eb520d7f2d8c",
   "metadata": {},
   "source": [
    "The variables with no significant impact are : Qual(P value = 0.156), age (P = 0.735) and Years (P=0.661) => their P values are much more higher than the conventional 0.05. "
   ]
  },
  {
   "cell_type": "markdown",
   "id": "3a932e0e-deea-4266-95c7-5b30d3d2ee49",
   "metadata": {},
   "source": [
    "### The variables among them that has NOT any significant impact on satis "
   ]
  },
  {
   "cell_type": "markdown",
   "id": "1f1be15c-a8f4-4520-9eda-cabefcacc9fc",
   "metadata": {},
   "source": [
    "Here we just need to remove the non significant variables and and only use the rest of the variables."
   ]
  },
  {
   "cell_type": "code",
   "execution_count": 33,
   "id": "e750ac64-b543-4f4e-9cf7-cc3d545576e8",
   "metadata": {},
   "outputs": [
    {
     "name": "stdout",
     "output_type": "stream",
     "text": [
      "                            OLS Regression Results                            \n",
      "==============================================================================\n",
      "Dep. Variable:                  satis   R-squared:                       0.801\n",
      "Model:                            OLS   Adj. R-squared:                  0.787\n",
      "Method:                 Least Squares   F-statistic:                     57.43\n",
      "Date:                Fri, 25 Oct 2024   Prob (F-statistic):           2.41e-19\n",
      "Time:                        22:55:57   Log-Likelihood:                -111.44\n",
      "No. Observations:                  62   AIC:                             232.9\n",
      "Df Residuals:                      57   BIC:                             243.5\n",
      "Df Model:                           4                                         \n",
      "Covariance Type:            nonrobust                                         \n",
      "==============================================================================\n",
      "                 coef    std err          t      P>|t|      [0.025      0.975]\n",
      "------------------------------------------------------------------------------\n",
      "const         -4.0364      1.578     -2.558      0.013      -7.196      -0.876\n",
      "commit         0.9689      0.207      4.683      0.000       0.555       1.383\n",
      "autonom        0.4296      0.085      5.034      0.000       0.259       0.600\n",
      "income         0.4283      0.111      3.872      0.000       0.207       0.650\n",
      "skill          0.6012      0.199      3.028      0.004       0.204       0.999\n",
      "==============================================================================\n",
      "Omnibus:                        0.008   Durbin-Watson:                   2.041\n",
      "Prob(Omnibus):                  0.996   Jarque-Bera (JB):                0.137\n",
      "Skew:                           0.018   Prob(JB):                        0.934\n",
      "Kurtosis:                       2.773   Cond. No.                         155.\n",
      "==============================================================================\n",
      "\n",
      "Notes:\n",
      "[1] Standard Errors assume that the covariance matrix of the errors is correctly specified.\n"
     ]
    }
   ],
   "source": [
    "# Assume df_clean is your DataFrame containing the dataset\n",
    "X_simplified = df_clean[['commit', 'autonom', 'income', 'skill']] #independant\n",
    "y = df_clean['satis']  # Dependent \n",
    "\n",
    "# Adding a constant for the intercept in statsmodels\n",
    "X_simplified = sm.add_constant(X_simplified)\n",
    "\n",
    "# The model\n",
    "model_simplified = sm.OLS(y, X_simplified).fit()\n",
    "\n",
    "# summary\n",
    "print(model_simplified.summary())"
   ]
  },
  {
   "cell_type": "markdown",
   "id": "df7661e9-3862-41ac-a4fe-79ef4e2a2161",
   "metadata": {},
   "source": [
    "==>   Y\n",
    "^\n",
    " =−4.0364+0.9689×commit+0.4296×autonom+0.4283×income+0.6012×skill //\n",
    "The model suggest that significant variables like commitment, autonomy, income and skill they all positively impact job satistfaction: improvement in these areas are likely to enhance employee satisfaction.The model is well fit with a squared R of 80.1% "
   ]
  },
  {
   "cell_type": "markdown",
   "id": "abab52a9-bec5-4b92-8e5d-7790849f70bd",
   "metadata": {},
   "source": [
    "### Confidence interval for job satisfaction\n"
   ]
  },
  {
   "cell_type": "code",
   "execution_count": 34,
   "id": "f443d1f5-be45-4cd3-a3ca-f9fe92e719ed",
   "metadata": {},
   "outputs": [
    {
     "name": "stdout",
     "output_type": "stream",
     "text": [
      "Mean job satisfaction: 10.838235294117647\n",
      "95% Confidence Interval for Job Satisfaction: (10.038594941028705, 11.637875647206588)\n"
     ]
    }
   ],
   "source": [
    "from scipy import stats\n",
    "\n",
    "satis = data['satis'].dropna()\n",
    "\n",
    "# Calculate the mean and standard error of the mean (SEM)\n",
    "mean_satis = np.mean(satis)\n",
    "sem_satis = stats.sem(satis)\n",
    "\n",
    "# Get the confidence interval\n",
    "confidence_interval = sm.stats.DescrStatsW(satis).tconfint_mean()\n",
    "\n",
    "print(f\"Mean job satisfaction: {mean_satis}\")\n",
    "print(f\"95% Confidence Interval for Job Satisfaction: {confidence_interval}\")"
   ]
  },
  {
   "cell_type": "markdown",
   "id": "3c77f780-c6b8-4414-867e-be01f00476de",
   "metadata": {},
   "source": [
    "==> This means that we are 95% sure that the  average satsifaction score lies between 10.0385 and 11.637"
   ]
  },
  {
   "cell_type": "markdown",
   "id": "eaa4be04-49f7-43e8-915c-177bfd3b19f4",
   "metadata": {},
   "source": [
    "### Confidence interval for job satisfaction between men and women\n"
   ]
  },
  {
   "cell_type": "code",
   "execution_count": 35,
   "id": "39992db0-3a5c-4608-85f6-015f5f11643d",
   "metadata": {},
   "outputs": [
    {
     "name": "stdout",
     "output_type": "stream",
     "text": [
      "95% Confidence Interval for the difference in job satisfaction between genders: (-1.381967817613968, 1.854504870796183)\n"
     ]
    }
   ],
   "source": [
    "# Job satis score for men and women\n",
    "men_satis = data[data['gender'] == 1]['satis'].dropna()  \n",
    "women_satis = data[data['gender'] == 2]['satis'].dropna()  \n",
    "\n",
    "# Use CompareMeans to compute the confidence interval for the difference in means\n",
    "cm = sm.stats.CompareMeans(sm.stats.DescrStatsW(men_satis), sm.stats.DescrStatsW(women_satis))\n",
    "diff_conf_int = cm.tconfint_diff(usevar='unequal')  # Use Welch's method for unequal variances\n",
    "\n",
    "# The confidence interval \n",
    "print(f\"95% Confidence Interval for the difference in job satisfaction between genders: {diff_conf_int}\")"
   ]
  },
  {
   "cell_type": "markdown",
   "id": "3e001cda-6f43-4c45-8cf2-11f4e8870ef4",
   "metadata": {},
   "source": [
    "==> Since the range include 0 than we can conclude that there is NO diffirence between job satis for men and job satis for women"
   ]
  },
  {
   "cell_type": "markdown",
   "id": "f7d74d53-15ba-4359-9687-331ee634d428",
   "metadata": {},
   "source": [
    "### Using the Mann-Whitney-Wilcoxon test to see if there is any significance in skill between man and woman, and comparing the result with confidence interval for the difference"
   ]
  },
  {
   "cell_type": "code",
   "execution_count": 36,
   "id": "6ee56baa-c362-4c4f-8a9d-35cfdd4ff663",
   "metadata": {},
   "outputs": [
    {
     "name": "stdout",
     "output_type": "stream",
     "text": [
      "Mann-Whitney U Test Statistic: 733.0\n",
      "P-Value: 0.1173277835474177\n"
     ]
    }
   ],
   "source": [
    "from scipy.stats import mannwhitneyu\n",
    "#skill ratings\n",
    "men_skill = data[data['gender'] == 1]['skill'].dropna()  # Skill ratings for men\n",
    "women_skill = data[data['gender'] == 2]['skill'].dropna()  # Skill ratings for women\n",
    "\n",
    "# Mann-Whitney-Wilcoxon test\n",
    "stat, p_value = mannwhitneyu(men_skill, women_skill, alternative='two-sided')\n",
    "\n",
    "\n",
    "print(f\"Mann-Whitney U Test Statistic: {stat}\")\n",
    "print(f\"P-Value: {p_value}\")"
   ]
  },
  {
   "cell_type": "markdown",
   "id": "81568c63-6a6c-430b-bc9b-4cd361e9e1fd",
   "metadata": {},
   "source": [
    "==> P value is greater than 0.05 it means there is no significant diffirence between in skills between men and women."
   ]
  },
  {
   "cell_type": "markdown",
   "id": "85867758-8489-4615-9e07-9e197604f52a",
   "metadata": {},
   "source": [
    "# Using the Kruskal-Wallis test to see if there is any significance in absence among ethnic group, and compare the result with One-Way ANOVA analysis."
   ]
  },
  {
   "cell_type": "code",
   "execution_count": 37,
   "id": "c2a92e6f-1cb7-4b75-829b-22e82bccc974",
   "metadata": {},
   "outputs": [],
   "source": [
    "from scipy.stats import kruskal, f_oneway\n"
   ]
  },
  {
   "cell_type": "code",
   "execution_count": 38,
   "id": "3990c7e2-b1b5-40d0-9e86-4be43bcb9389",
   "metadata": {
    "scrolled": true
   },
   "outputs": [
    {
     "name": "stdout",
     "output_type": "stream",
     "text": [
      "Kruskal-Wallis Test Statistic: 3.4113189455188184, P-Value: 0.3324471948921905\n",
      "One-Way ANOVA Test Statistic: 1.1501204889169643, P-Value: 0.3356505991566349\n"
     ]
    }
   ],
   "source": [
    "ethnic_groups = data['ethnicgp'].unique()  \n",
    "absence_by_ethnic_group = [data[data['ethnicgp'] == group]['absence'].dropna() for group in ethnic_groups]\n",
    "\n",
    "kruskal_stat, kruskal_p_value = kruskal(*absence_by_ethnic_group)\n",
    "\n",
    "anova_stat, anova_p_value = f_oneway(*absence_by_ethnic_group)\n",
    "\n",
    "print(f\"Kruskal-Wallis Test Statistic: {kruskal_stat}, P-Value: {kruskal_p_value}\")\n",
    "print(f\"One-Way ANOVA Test Statistic: {anova_stat}, P-Value: {anova_p_value}\")"
   ]
  },
  {
   "cell_type": "markdown",
   "id": "7a3b90a1-d827-4b4e-87b1-bb0745bfcf03",
   "metadata": {},
   "source": [
    "Kruskal-Wallis : since P value is grater than 0.05 it suggest that there is no  diffirence in the median number of absences among diffirent ethnic groups.\n",
    "Comparison between One-Way ANOVA and Kruskal-Wallis : Both tests resulter a p value > 0.05 ; no diffirences in absense between ethnic groups.\n",
    "One-Way ANOVA assumes that the data is normally distributed \n",
    "==> the diffirence of absence between ethnic groups is not too significant. "
   ]
  },
  {
   "cell_type": "markdown",
   "id": "8df438ce-1b3b-48f9-806e-a160a7ab6f15",
   "metadata": {},
   "source": [
    "# Investigating if there is any significant relationship between income_class and skill.\n"
   ]
  },
  {
   "cell_type": "code",
   "execution_count": 39,
   "id": "df323419-8b06-46dc-a883-ad6493ea10ac",
   "metadata": {},
   "outputs": [
    {
     "name": "stdout",
     "output_type": "stream",
     "text": [
      "Contingency Table:\n",
      "skill          1   2   3  4\n",
      "income_class               \n",
      "0              0   0   1  1\n",
      "High Income    2   1   6  8\n",
      "Low Income     3   7   4  3\n",
      "Middle Income  9  10  10  5\n",
      "\n",
      "Chi-Square Statistic: 13.045943867743176\n",
      "P-Value: 0.16053834798877892\n"
     ]
    }
   ],
   "source": [
    "from scipy.stats import chi2_contingency\n",
    "\n",
    "Q1 = data['income'].quantile(0.25)\n",
    "Q3 = data['income'].quantile(0.75)\n",
    "Min = data['income'].min()\n",
    "Max = data['income'].max()\n",
    "conditions = [\n",
    "    (data['income'] >= Min) & (data['income'] <= Q1),    # Low income: between Min and Q1\n",
    "    (data['income'] > Q1) & (data['income'] <= Q3),      # Middle income: between Q1 and Q3\n",
    "    (data['income'] > Q3) & (data['income'] <= Max)      # High income: between Q3 and Max\n",
    "]\n",
    "\n",
    "choices = ['Low Income', 'Middle Income', 'High Income']\n",
    "data['income_class'] = np.select(conditions, choices)\n",
    "\n",
    "# Step 4: Create a contingency table for 'income_class' and 'skill'\n",
    "contingency_table = pd.crosstab(data['income_class'], data['skill'])\n",
    "\n",
    "# Step 5: Perform the Chi-Square Test of Independence to see if there is a significant relationship\n",
    "chi2_stat, p_value, dof, expected = chi2_contingency(contingency_table)\n",
    "\n",
    "# Step 6: Display the contingency table and the Chi-Square test results\n",
    "print(\"Contingency Table:\")\n",
    "print(contingency_table)\n",
    "print(f\"\\nChi-Square Statistic: {chi2_stat}\")\n",
    "print(f\"P-Value: {p_value}\")"
   ]
  },
  {
   "cell_type": "markdown",
   "id": "d498af89-443e-455f-8414-4aa414c85766",
   "metadata": {},
   "source": [
    "==> There is no great relationship between income class and skill since the P value is grater than 0.05"
   ]
  },
  {
   "cell_type": "code",
   "execution_count": null,
   "id": "e8a3aab8-fa02-489e-af5c-e3f9c877bd98",
   "metadata": {},
   "outputs": [],
   "source": []
  }
 ],
 "metadata": {
  "kernelspec": {
   "display_name": "Python 3 (ipykernel)",
   "language": "python",
   "name": "python3"
  },
  "language_info": {
   "codemirror_mode": {
    "name": "ipython",
    "version": 3
   },
   "file_extension": ".py",
   "mimetype": "text/x-python",
   "name": "python",
   "nbconvert_exporter": "python",
   "pygments_lexer": "ipython3",
   "version": "3.9.19"
  }
 },
 "nbformat": 4,
 "nbformat_minor": 5
}
