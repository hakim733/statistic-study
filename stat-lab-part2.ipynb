{
 "cells": [
  {
   "cell_type": "markdown",
   "id": "e890e4ed-17bb-4684-9fcc-d2b0b3cce7f4",
   "metadata": {},
   "source": [
    "                  Statistic lab "
   ]
  },
  {
   "cell_type": "markdown",
   "id": "7b66f616-7208-49ca-a221-41577d30ba66",
   "metadata": {},
   "source": [
    "# Part Two\n"
   ]
  },
  {
   "cell_type": "markdown",
   "id": "368e53f8-f4eb-4ffd-afd9-739cb6041803",
   "metadata": {},
   "source": [
    "For the assignement i choosed a data from the website of migrationsverket of sweden : https://www.migrationsverket.se/Om-Migrationsverket/Statistik/Oppna-data.html"
   ]
  },
  {
   "cell_type": "markdown",
   "id": "6bf0465e-8a8f-409b-a199-56a2fe01470a",
   "metadata": {},
   "source": [
    "The received application for Asylium from 2020 to 2021"
   ]
  },
  {
   "cell_type": "markdown",
   "id": "ae684bbf-7bf9-4fd5-ab9a-3f9e5d2fa180",
   "metadata": {},
   "source": [
    "# Importing libraries we may use and cleaning the table "
   ]
  },
  {
   "cell_type": "code",
   "execution_count": 159,
   "id": "07681cda-c942-4442-82b0-ae77d8756055",
   "metadata": {},
   "outputs": [],
   "source": [
    "import pandas as pd\n",
    "import matplotlib.pyplot as plt\n",
    "import statsmodels.api as sm\n",
    "from sklearn.linear_model import LinearRegression\n",
    "from sklearn.metrics import r2_score\n",
    "import seaborn as sns\n",
    "from sklearn.model_selection import train_test_split\n",
    "from sklearn.metrics import r2_score\n",
    "from sklearn.feature_selection import f_regression\n",
    "import numpy as np"
   ]
  },
  {
   "cell_type": "code",
   "execution_count": 160,
   "id": "a324b7f5-99f0-4d38-ad79-badf31617ef8",
   "metadata": {},
   "outputs": [],
   "source": [
    "data = pd.read_excel(\"/Users/mac/Desktop/statistics-labs/slab.xlsx\")\n"
   ]
  },
  {
   "cell_type": "code",
   "execution_count": 161,
   "id": "1b2349ec-19a2-4fb8-a91e-e28c2bffd84d",
   "metadata": {},
   "outputs": [],
   "source": [
    "data = data.drop([0, 1, 2])\n"
   ]
  },
  {
   "cell_type": "code",
   "execution_count": 162,
   "id": "3153fd23-6a2f-416a-aec6-d7150aff5093",
   "metadata": {},
   "outputs": [],
   "source": [
    "data.columns = data.iloc[0]\n",
    "data = data.drop(data.index[0])"
   ]
  },
  {
   "cell_type": "code",
   "execution_count": 163,
   "id": "bf53257d-ca36-4399-8b96-baf5b7fed21a",
   "metadata": {},
   "outputs": [
    {
     "data": {
      "text/html": [
       "<div>\n",
       "<style scoped>\n",
       "    .dataframe tbody tr th:only-of-type {\n",
       "        vertical-align: middle;\n",
       "    }\n",
       "\n",
       "    .dataframe tbody tr th {\n",
       "        vertical-align: top;\n",
       "    }\n",
       "\n",
       "    .dataframe thead th {\n",
       "        text-align: right;\n",
       "    }\n",
       "</style>\n",
       "<table border=\"1\" class=\"dataframe\">\n",
       "  <thead>\n",
       "    <tr style=\"text-align: right;\">\n",
       "      <th>3</th>\n",
       "      <th>År</th>\n",
       "      <th>2000</th>\n",
       "      <th>2001</th>\n",
       "      <th>2002</th>\n",
       "      <th>2003</th>\n",
       "      <th>2004</th>\n",
       "      <th>2005</th>\n",
       "      <th>2006</th>\n",
       "      <th>2007</th>\n",
       "      <th>2008</th>\n",
       "      <th>...</th>\n",
       "      <th>2014</th>\n",
       "      <th>2015</th>\n",
       "      <th>2016</th>\n",
       "      <th>2017</th>\n",
       "      <th>2018</th>\n",
       "      <th>2019</th>\n",
       "      <th>2020</th>\n",
       "      <th>2021</th>\n",
       "      <th>Summa</th>\n",
       "      <th>Andel av totalen</th>\n",
       "    </tr>\n",
       "  </thead>\n",
       "  <tbody>\n",
       "    <tr>\n",
       "      <th>4</th>\n",
       "      <td>TOTALT</td>\n",
       "      <td>16303</td>\n",
       "      <td>23515</td>\n",
       "      <td>33016</td>\n",
       "      <td>31355</td>\n",
       "      <td>23161</td>\n",
       "      <td>17530</td>\n",
       "      <td>24322</td>\n",
       "      <td>36207</td>\n",
       "      <td>24353</td>\n",
       "      <td>...</td>\n",
       "      <td>81301</td>\n",
       "      <td>162877</td>\n",
       "      <td>28939</td>\n",
       "      <td>25666</td>\n",
       "      <td>21502</td>\n",
       "      <td>21958</td>\n",
       "      <td>12991</td>\n",
       "      <td>11412</td>\n",
       "      <td>780215</td>\n",
       "      <td>1</td>\n",
       "    </tr>\n",
       "    <tr>\n",
       "      <th>5</th>\n",
       "      <td>Kvinnor / flickor</td>\n",
       "      <td>6327</td>\n",
       "      <td>8497</td>\n",
       "      <td>12257</td>\n",
       "      <td>11235</td>\n",
       "      <td>8345</td>\n",
       "      <td>6334</td>\n",
       "      <td>8388</td>\n",
       "      <td>11079</td>\n",
       "      <td>8428</td>\n",
       "      <td>...</td>\n",
       "      <td>26484</td>\n",
       "      <td>48149</td>\n",
       "      <td>11587</td>\n",
       "      <td>10031</td>\n",
       "      <td>8573</td>\n",
       "      <td>8825</td>\n",
       "      <td>5081</td>\n",
       "      <td>4216</td>\n",
       "      <td>270669</td>\n",
       "      <td>0.346916</td>\n",
       "    </tr>\n",
       "    <tr>\n",
       "      <th>6</th>\n",
       "      <td>Män / pojkar</td>\n",
       "      <td>9976</td>\n",
       "      <td>15018</td>\n",
       "      <td>20759</td>\n",
       "      <td>20120</td>\n",
       "      <td>14816</td>\n",
       "      <td>11196</td>\n",
       "      <td>15934</td>\n",
       "      <td>25128</td>\n",
       "      <td>15925</td>\n",
       "      <td>...</td>\n",
       "      <td>54817</td>\n",
       "      <td>114728</td>\n",
       "      <td>17352</td>\n",
       "      <td>15635</td>\n",
       "      <td>12929</td>\n",
       "      <td>13133</td>\n",
       "      <td>7910</td>\n",
       "      <td>7196</td>\n",
       "      <td>509546</td>\n",
       "      <td>0.653084</td>\n",
       "    </tr>\n",
       "    <tr>\n",
       "      <th>7</th>\n",
       "      <td>Barn</td>\n",
       "      <td>4830</td>\n",
       "      <td>6450</td>\n",
       "      <td>9406</td>\n",
       "      <td>8573</td>\n",
       "      <td>6550</td>\n",
       "      <td>4798</td>\n",
       "      <td>6294</td>\n",
       "      <td>7605</td>\n",
       "      <td>6232</td>\n",
       "      <td>...</td>\n",
       "      <td>23110</td>\n",
       "      <td>70384</td>\n",
       "      <td>10909</td>\n",
       "      <td>8507</td>\n",
       "      <td>6329</td>\n",
       "      <td>6415</td>\n",
       "      <td>3566</td>\n",
       "      <td>3250</td>\n",
       "      <td>250582</td>\n",
       "      <td>0.32117</td>\n",
       "    </tr>\n",
       "    <tr>\n",
       "      <th>8</th>\n",
       "      <td>varav ensamkommande barn</td>\n",
       "      <td>350</td>\n",
       "      <td>461</td>\n",
       "      <td>550</td>\n",
       "      <td>561</td>\n",
       "      <td>388</td>\n",
       "      <td>398</td>\n",
       "      <td>820</td>\n",
       "      <td>1264</td>\n",
       "      <td>1510</td>\n",
       "      <td>...</td>\n",
       "      <td>7049</td>\n",
       "      <td>35369</td>\n",
       "      <td>2199</td>\n",
       "      <td>1336</td>\n",
       "      <td>944</td>\n",
       "      <td>902</td>\n",
       "      <td>500</td>\n",
       "      <td>523</td>\n",
       "      <td>69854</td>\n",
       "      <td>0.089532</td>\n",
       "    </tr>\n",
       "  </tbody>\n",
       "</table>\n",
       "<p>5 rows × 25 columns</p>\n",
       "</div>"
      ],
      "text/plain": [
       "3                        År   2000   2001   2002   2003   2004   2005   2006  \\\n",
       "4                    TOTALT  16303  23515  33016  31355  23161  17530  24322   \n",
       "5         Kvinnor / flickor   6327   8497  12257  11235   8345   6334   8388   \n",
       "6              Män / pojkar   9976  15018  20759  20120  14816  11196  15934   \n",
       "7                      Barn   4830   6450   9406   8573   6550   4798   6294   \n",
       "8  varav ensamkommande barn    350    461    550    561    388    398    820   \n",
       "\n",
       "3   2007   2008  ...   2014    2015   2016   2017   2018   2019   2020   2021  \\\n",
       "4  36207  24353  ...  81301  162877  28939  25666  21502  21958  12991  11412   \n",
       "5  11079   8428  ...  26484   48149  11587  10031   8573   8825   5081   4216   \n",
       "6  25128  15925  ...  54817  114728  17352  15635  12929  13133   7910   7196   \n",
       "7   7605   6232  ...  23110   70384  10909   8507   6329   6415   3566   3250   \n",
       "8   1264   1510  ...   7049   35369   2199   1336    944    902    500    523   \n",
       "\n",
       "3   Summa Andel av totalen  \n",
       "4  780215                1  \n",
       "5  270669         0.346916  \n",
       "6  509546         0.653084  \n",
       "7  250582          0.32117  \n",
       "8   69854         0.089532  \n",
       "\n",
       "[5 rows x 25 columns]"
      ]
     },
     "execution_count": 163,
     "metadata": {},
     "output_type": "execute_result"
    }
   ],
   "source": [
    "data.head()"
   ]
  },
  {
   "cell_type": "markdown",
   "id": "313b6304-3f6c-4487-b0cb-5a31c5c6ed1d",
   "metadata": {},
   "source": [
    "# Exercice 2.1"
   ]
  },
  {
   "cell_type": "markdown",
   "id": "4ac8d59e-0186-4613-af1f-eb9519f39382",
   "metadata": {},
   "source": [
    " ### For qualitative variables: Gender categories and children categories-count"
   ]
  },
  {
   "cell_type": "code",
   "execution_count": 164,
   "id": "eb0229a6-530d-43b7-ba89-42e31b2091a4",
   "metadata": {},
   "outputs": [
    {
     "name": "stdout",
     "output_type": "stream",
     "text": [
      "Quantitative Data Descriptive Statistics (for '2000' and 'Sum'):\n",
      "               2000\n",
      "count    116.000000\n",
      "mean     483.525862\n",
      "std     1960.372105\n",
      "min        1.000000\n",
      "25%        3.000000\n",
      "50%       19.000000\n",
      "75%       91.250000\n",
      "max    16303.000000\n",
      "\n",
      "Qualitative Data Descriptive Statistics (for 'Year' and 'Percentage of Total'):\n",
      "Year - Frequency of Categories:\n",
      " Year\n",
      "TOTALT                                 1\n",
      "Nederländerna                          1\n",
      "Kanada                                 1\n",
      "Malaysia                               1\n",
      "Japan                                  1\n",
      "                                      ..\n",
      "Chile                                  1\n",
      "Moldavien                              1\n",
      "Kenya                                  1\n",
      "Montenegro                             1\n",
      "*) Serbien och Montenegro 2003-2005    1\n",
      "Name: count, Length: 184, dtype: int64\n",
      "\n",
      "Percentage of Total - Descriptive Stats:\n",
      " count    184.000000\n",
      "mean       0.018740\n",
      "std        0.095335\n",
      "min        0.000001\n",
      "25%        0.000030\n",
      "50%        0.000338\n",
      "75%        0.003285\n",
      "max        1.000000\n",
      "Name: Percentage of Total, dtype: float64\n"
     ]
    },
    {
     "name": "stderr",
     "output_type": "stream",
     "text": [
      "/var/folders/kz/86j7yqpn4nb2vk338770w0_m0000gn/T/ipykernel_19984/989615315.py:22: FutureWarning: A value is trying to be set on a copy of a DataFrame or Series through chained assignment using an inplace method.\n",
      "The behavior will change in pandas 3.0. This inplace method will never work because the intermediate object on which we are setting values always behaves as a copy.\n",
      "\n",
      "For example, when doing 'df[col].method(value, inplace=True)', try using 'df.method({col: value}, inplace=True)' or df[col] = df[col].method(value) instead, to perform the operation inplace on the original object.\n",
      "\n",
      "\n",
      "  data_cleaned['Percentage of Total'].fillna(mean_percentage, inplace=True)\n"
     ]
    }
   ],
   "source": [
    "import pandas as pd\n",
    "\n",
    "# Load the data \n",
    "file_path = '/Users/mac/Desktop/statistics-labs/slab.xlsx'\n",
    "data_cleaned = pd.read_excel(file_path, skiprows=4)\n",
    "\n",
    "# Rename the columns to english\n",
    "data_cleaned.columns = ['Year', '2000', '2001', '2002', '2003', '2004', '2005', \n",
    "                        '2006', '2007', '2008', '2009', '2010', '2011', '2012', \n",
    "                        '2013', '2014', '2015', '2016', '2017', '2018', '2019', \n",
    "                        '2020', '2021', 'Sum', 'Percentage of Total']\n",
    "\n",
    "# remove the column in the variable year where there is a NaN\n",
    "data_cleaned = data_cleaned.dropna(subset=['Year'])\n",
    "# Convert numeric columns to appropriate types\n",
    "numeric_columns = data_cleaned.columns[1:-2]\n",
    "data_cleaned[numeric_columns] = data_cleaned[numeric_columns].apply(pd.to_numeric, errors='coerce')\n",
    "\n",
    "# Filling non-numeric entries in 'Percentage of Total' with the mean of the column\n",
    "data_cleaned['Percentage of Total'] = pd.to_numeric(data_cleaned['Percentage of Total'], errors='coerce')\n",
    "mean_percentage = data_cleaned['Percentage of Total'].mean()\n",
    "data_cleaned['Percentage of Total'].fillna(mean_percentage, inplace=True)\n",
    "\n",
    "# Quantitative Variables\n",
    "quantitative_analysis = data_cleaned[['2000', 'Sum']].describe()\n",
    "\n",
    "# Qualitative Variables\n",
    "qualitative_analysis_year = data_cleaned['Year'].value_counts() # Frequency of each category in 'Year'\n",
    "qualitative_analysis_percentage = data_cleaned['Percentage of Total'].describe() # Describe percentage\n",
    "\n",
    "# The final result\n",
    "print(\"Quantitative Data Descriptive Statistics (for '2000' and 'Sum'):\")\n",
    "print(quantitative_analysis)\n",
    "\n",
    "print(\"\\nQualitative Data Descriptive Statistics (for 'Year' and 'Percentage of Total'):\")\n",
    "print(\"Year - Frequency of Categories:\\n\", qualitative_analysis_year)\n",
    "print(\"\\nPercentage of Total - Descriptive Stats:\\n\", qualitative_analysis_percentage)\n",
    "\n",
    "\n",
    "\n"
   ]
  },
  {
   "cell_type": "markdown",
   "id": "b30b70e8-eb36-4e01-8422-44d28c70073f",
   "metadata": {},
   "source": [
    "1. Quantitative Variables:\n",
    "Variable 1: Data from the year 2000.\n",
    "Variable 2: Sum (the total sum of values).\n",
    "Descriptive Statistics: We use .describe() to get statistical summaries like mean, standard deviation, minimum, maximum, etc.\n",
    "2. Qualitative Variables:\n",
    "Variable 1: Year (treated as categorical, which includes labels like \"TOTALT\", \"Kvinnor / flickor\", etc.).\n",
    "Analysis: We use value_counts() to calculate the frequency of each category in the Year column.\n",
    "Variable 2: Percentage of Total (used as a qualitative measure here).\n",
    "Analysis: We use .describe() to summarize this column, providing a general description of the distribution of percentages.\n",
    "Final Answer:\n",
    "We have:\n",
    "\n",
    "Two quantitative variables: 2000 and Sum, described with standard descriptive statistics.\n",
    "Two qualitative variables: Year (frequency of categories) and Percentage of Total (distribution summary)."
   ]
  },
  {
   "cell_type": "code",
   "execution_count": null,
   "id": "3f11cbea-6d94-4bc9-95d0-55b7b7601aab",
   "metadata": {},
   "outputs": [],
   "source": []
  },
  {
   "cell_type": "markdown",
   "id": "15fc08b5-0bfd-41df-a9f0-549bb38fb82d",
   "metadata": {},
   "source": [
    "### Summary Statistics \n"
   ]
  },
  {
   "cell_type": "code",
   "execution_count": 165,
   "id": "adcc610c-0754-4028-88d2-400695f85393",
   "metadata": {},
   "outputs": [
    {
     "name": "stdout",
     "output_type": "stream",
     "text": [
      "Frequency Counts for each Category in 'Year':\n",
      "Year\n",
      "TOTALT                                 1\n",
      "Nederländerna                          1\n",
      "Kanada                                 1\n",
      "Malaysia                               1\n",
      "Japan                                  1\n",
      "                                      ..\n",
      "Chile                                  1\n",
      "Moldavien                              1\n",
      "Kenya                                  1\n",
      "Montenegro                             1\n",
      "*) Serbien och Montenegro 2003-2005    1\n",
      "Name: count, Length: 184, dtype: int64\n",
      "\n",
      "Proportions (%) for each Category in 'Year':\n",
      "Year\n",
      "TOTALT                                 0.543478\n",
      "Nederländerna                          0.543478\n",
      "Kanada                                 0.543478\n",
      "Malaysia                               0.543478\n",
      "Japan                                  0.543478\n",
      "                                         ...   \n",
      "Chile                                  0.543478\n",
      "Moldavien                              0.543478\n",
      "Kenya                                  0.543478\n",
      "Montenegro                             0.543478\n",
      "*) Serbien och Montenegro 2003-2005    0.543478\n",
      "Name: proportion, Length: 184, dtype: float64\n",
      "\n",
      "Mode (Most Frequent Category) of 'Year': *) Serbien och Montenegro 2003-2005\n"
     ]
    }
   ],
   "source": [
    "# Extract the qualitative column ('Year')\n",
    "qualitative_data = data_cleaned['Year']\n",
    "\n",
    "# Frequency counts\n",
    "frequency_counts = qualitative_data.value_counts()\n",
    "print(\"Frequency Counts for each Category in 'Year':\")\n",
    "print(frequency_counts)\n",
    "\n",
    "# Percentages\n",
    "proportions = qualitative_data.value_counts(normalize=True) * 100\n",
    "print(\"\\nProportions (%) for each Category in 'Year':\")\n",
    "print(proportions)\n",
    "\n",
    "# The most frequent category\n",
    "mode_value = qualitative_data.mode()[0]\n",
    "print(f\"\\nMode (Most Frequent Category) of 'Year': {mode_value}\")"
   ]
  },
  {
   "cell_type": "markdown",
   "id": "5e8b41cc-8a5c-4e4d-94d7-85656478b1bc",
   "metadata": {},
   "source": [
    "\n",
    "# Exercise 2.2: Confidence Interval Calculation\n",
    "\n",
    "## 1. Confidence Interval for One Quantitative Variable"
   ]
  },
  {
   "cell_type": "code",
   "execution_count": 166,
   "id": "8909efd6-5fa9-4800-824e-84e43a8e8ae4",
   "metadata": {},
   "outputs": [
    {
     "data": {
      "text/plain": [
       "((122.98723528228038, 844.0644888556507), 483.5258620689655)"
      ]
     },
     "execution_count": 166,
     "metadata": {},
     "output_type": "execute_result"
    }
   ],
   "source": [
    "\n",
    "# Re-loading the data and re-running the analysis for calculating the confidence interval for the '2000' column\n",
    "\n",
    "import pandas as pd\n",
    "import scipy.stats as stats\n",
    "import numpy as np\n",
    "\n",
    "\n",
    "# Convert numeric columns to appropriate types\n",
    "numeric_columns = data_cleaned.columns[1:-2]\n",
    "data_cleaned[numeric_columns] = data_cleaned[numeric_columns].apply(pd.to_numeric, errors='coerce')\n",
    "\n",
    "# Extract the data for the year 2000\n",
    "data_2000 = data_cleaned['2000'].dropna()\n",
    "\n",
    "# Calculate the mean and standard error of the mean (SEM)\n",
    "mean_2000 = np.mean(data_2000)\n",
    "sem_2000 = stats.sem(data_2000)\n",
    "\n",
    "# Define confidence level (95% confidence interval)\n",
    "confidence_level = 0.95\n",
    "confidence_interval = stats.t.interval(confidence_level, len(data_2000)-1, loc=mean_2000, scale=sem_2000)\n",
    "\n",
    "confidence_interval, mean_2000\n",
    "\n"
   ]
  },
  {
   "cell_type": "markdown",
   "id": "595c01f2-de02-4d74-957a-4e9b284ec44f",
   "metadata": {},
   "source": [
    "Lower band : 122.98723528228038\n",
    "Upper Bound: 844.06\n",
    "Mean: 483.525\n",
    "\n",
    "==> We are confident at 95% that the population mean is in between 122.987 and 844.06. 483.525 is the mean of our sample.\n"
   ]
  },
  {
   "cell_type": "markdown",
   "id": "fcebccd0-3a18-4e34-a529-092eefb6421b",
   "metadata": {},
   "source": [
    "## 2. Confidence Interval for the Difference Between Two Groups\n",
    "We also calculate the confidence interval for the **difference** in asylum seekers between **women (Kvinnor / flickor)** and **men (Män / pojkar)**.\n",
    "\n",
    "The formula for the confidence interval of the difference between two means is:\n"
   ]
  },
  {
   "cell_type": "code",
   "execution_count": 167,
   "id": "72aaf6dd-19d7-4614-ba4d-455e5280362d",
   "metadata": {},
   "outputs": [],
   "source": [
    "# Drop rows with missing 'Year' values\n",
    "data_cleaned = data_cleaned.dropna(subset=['Year'])\n",
    "\n",
    "# Filtering and converting data to numeric while dropping NaN values\n",
    "women_asylum = data_cleaned.loc[data_cleaned['Year'] == 'Kvinnor / flickor'].drop(['Year', 'Percentage of Total'], axis=1)\n",
    "women_asylum = pd.to_numeric(women_asylum.values.flatten(), errors='coerce')\n",
    "women_asylum = women_asylum[~pd.isna(women_asylum)]\n",
    "\n",
    "men_asylum = data_cleaned.loc[data_cleaned['Year'] == 'Män / pojkar'].drop(['Year', 'Percentage of Total'], axis=1)\n",
    "men_asylum = pd.to_numeric(men_asylum.values.flatten(), errors='coerce')\n",
    "men_asylum = men_asylum[~pd.isna(men_asylum)]\n",
    "\n",
    "# Calculate means and standard errors\n",
    "mean_women = women_asylum.mean()\n",
    "mean_men = men_asylum.mean()\n",
    "sem_women = stats.sem(women_asylum)\n",
    "sem_men = stats.sem(men_asylum)\n",
    "\n",
    "# Calculate the standard error of the difference\n",
    "se_diff = (sem_women**2 + sem_men**2) ** 0.5\n",
    "\n",
    "# Calculate the 95% confidence interval for the difference in means\n",
    "mean_diff = mean_women - mean_men\n",
    "confidence_interval_diff = stats.t.interval(0.95, len(women_asylum) + len(men_asylum) - 2, loc=mean_diff, scale=se_diff)\n"
   ]
  },
  {
   "cell_type": "markdown",
   "id": "2741d854-928b-472e-b24a-c420999b832b",
   "metadata": {},
   "source": [
    "\n",
    "Negative lower bound : -70,087.29 :indicating that in sometimes the overage numbers in asylium seekers of the categori women/girls could be significanly less than men/boys.\n",
    "Postive upper bound : 28543.460444406322 indicating that in some cases the number of asylium seekers in the category women/girls could be higher than men/boy\n",
    "==> the confidence interval contains both positive and negative values this means that we can not conclude that the average of the aylium seekers is bigger in one group than the other group."
   ]
  },
  {
   "cell_type": "markdown",
   "id": "4ae63451-ce1a-4319-9a45-8e6eddd01d6b",
   "metadata": {},
   "source": [
    "# Exercise 2.3: T-test for Difference Between Two Groups\n",
    "\n",
    "\n"
   ]
  },
  {
   "cell_type": "code",
   "execution_count": 168,
   "id": "02c0f526-a689-47fc-ab4d-01361639c030",
   "metadata": {},
   "outputs": [
    {
     "name": "stdout",
     "output_type": "stream",
     "text": [
      "T-statistic: -0.848884170433431, P-value: 0.4020041508321478\n",
      "There is no statistically significant difference in asylum seekers between 'Kvinnor / flickor' and 'Män / pojkar'.\n"
     ]
    }
   ],
   "source": [
    "from scipy.stats import ttest_ind\n",
    "\n",
    "# ttest-ind is an embedded function that performs a T-test \n",
    "t_stat, p_value = ttest_ind(women_asylum, men_asylum, equal_var=False)  \n",
    "\n",
    "print(f\"T-statistic: {t_stat}, P-value: {p_value}\")\n",
    "\n",
    "# result\n",
    "if p_value < 0.05:\n",
    "    print(\"The difference in asylum seekers between 'Kvinnor / flickor' and 'Män / pojkar' is statistically significant.\")\n",
    "else:\n",
    "    print(\"There is no statistically significant difference in asylum seekers between 'Kvinnor / flickor' and 'Män / pojkar'.\")\n"
   ]
  },
  {
   "cell_type": "markdown",
   "id": "7aec757a-f230-47b5-ac69-32b0c13b2a0d",
   "metadata": {},
   "source": [
    "# Exercise 2.4: Non-Parametric Test and Comparison with ANOVA\n",
    "\n",
    "\n",
    "\n",
    "\n",
    "\n",
    "\n",
    "\n"
   ]
  },
  {
   "cell_type": "code",
   "execution_count": 169,
   "id": "221d82c0-686c-4e6b-925e-4b155ed5ff1a",
   "metadata": {},
   "outputs": [
    {
     "name": "stdout",
     "output_type": "stream",
     "text": [
      "Mann-Whitney U Test: U-statistic = 125.0, P-value = 0.0022602586975855104\n",
      "One-Way ANOVA: F-statistic = 0.7206043348124545, P-value = 0.4005406860874936\n",
      "The non-parametric test (Mann-Whitney U) indicates a statistically significant difference between the groups.\n",
      "The ANOVA test does not indicate a statistically significant difference between the groups.\n"
     ]
    }
   ],
   "source": [
    "import pandas as pd\n",
    "import scipy.stats as stats\n",
    "\n",
    "# Assuming 'women_asylum' and 'men_asylum' are already extracted\n",
    "\n",
    "# Perform the non-parametric Mann-Whitney U Test\n",
    "u_stat, p_value_nonparametric = stats.mannwhitneyu(women_asylum, men_asylum, alternative='two-sided')\n",
    "\n",
    "# Perform one-way ANOVA\n",
    "f_stat, p_value_anova = stats.f_oneway(women_asylum, men_asylum)\n",
    "\n",
    "# Output the results\n",
    "print(f\"Mann-Whitney U Test: U-statistic = {u_stat}, P-value = {p_value_nonparametric}\")\n",
    "print(f\"One-Way ANOVA: F-statistic = {f_stat}, P-value = {p_value_anova}\")\n",
    "\n",
    "# Interpretations for both tests\n",
    "alpha = 0.05\n",
    "\n",
    "# Non-parametric test interpretation\n",
    "if p_value_nonparametric < alpha:\n",
    "    print(\"The non-parametric test (Mann-Whitney U) indicates a statistically significant difference between the groups.\")\n",
    "else:\n",
    "    print(\"The non-parametric test (Mann-Whitney U) does not indicate a statistically significant difference between the groups.\")\n",
    "\n",
    "# ANOVA test interpretation\n",
    "if p_value_anova < alpha:\n",
    "    print(\"The ANOVA test indicates a statistically significant difference between the groups.\")\n",
    "else:\n",
    "    print(\"The ANOVA test does not indicate a statistically significant difference between the groups.\")\n"
   ]
  },
  {
   "cell_type": "markdown",
   "id": "837c7155-4733-4974-96fb-4ae29c57b1dc",
   "metadata": {},
   "source": [
    "Given that Mann-Whitney does not rely on the assumption of normality : does not require the data to be normally distributed, while ANOVA assume normality.\n",
    "Lets check if our data is normally distributed :"
   ]
  },
  {
   "cell_type": "code",
   "execution_count": 170,
   "id": "7fbd697c-3675-48fb-96ae-ccab251ff198",
   "metadata": {},
   "outputs": [
    {
     "data": {
      "image/png": "[encoded data removed]",
      "text/plain": [
       "<Figure size 1200x600 with 2 Axes>"
      ]
     },
     "metadata": {},
     "output_type": "display_data"
    },
    {
     "data": {
      "image/png": "[encoded data removed]",
      "text/plain": [
       "<Figure size 1200x600 with 2 Axes>"
      ]
     },
     "metadata": {},
     "output_type": "display_data"
    }
   ],
   "source": [
    "# Plotting the histograms and Q-Q plots for women and men asylum seekers without performing the Shapiro-Wilk test.\n",
    "\n",
    "import matplotlib.pyplot as plt\n",
    "import scipy.stats as stats\n",
    "import seaborn as sns\n",
    "\n",
    "# Assuming 'women_asylum' and 'men_asylum' data are already extracted\n",
    "# Visual Inspection with Histogram and Q-Q plot\n",
    "\n",
    "# Plot for Women Asylum Seekers\n",
    "plt.figure(figsize=(12, 6))\n",
    "\n",
    "# Histogram Women\n",
    "plt.subplot(1, 2, 1)\n",
    "sns.histplot(women_asylum, kde=True)\n",
    "plt.title(\"Histogram for Women Asylum Seekers (2000)\")\n",
    "\n",
    "#  plot  Women\n",
    "plt.subplot(1, 2, 2)\n",
    "stats.probplot(women_asylum, dist=\"norm\", plot=plt)\n",
    "plt.title(\"Q-Q Plot for Women Asylum Seekers (2000)\")\n",
    "\n",
    "plt.tight_layout()\n",
    "plt.show()\n",
    "\n",
    "# Plot Men \n",
    "plt.figure(figsize=(12, 6))\n",
    "\n",
    "# Hist  for Men\n",
    "plt.subplot(1, 2, 1)\n",
    "sns.histplot(men_asylum, kde=True)\n",
    "plt.title(\"Histogram for Men Asylum Seekers (2000)\")\n",
    "\n",
    "# Q-Q plot for Men\n",
    "plt.subplot(1, 2, 2)\n",
    "stats.probplot(men_asylum, dist=\"norm\", plot=plt)\n",
    "plt.title(\"Q-Q Plot for Men Asylum Seekers (2000)\")\n",
    "\n",
    "plt.tight_layout()\n",
    "plt.show()\n"
   ]
  },
  {
   "cell_type": "markdown",
   "id": "eff04fea-a8d8-449b-a6a2-2351c0d1d7f2",
   "metadata": {},
   "source": [
    "We see clearly that the plots are skewed and therefore we can not assume normality, that means Mann-Whitney is more reliable ==> Therefore we can conclude that there is significant diffirence between the two groups."
   ]
  },
  {
   "cell_type": "markdown",
   "id": "d56736a7-de9b-481b-a2af-327fa1114260",
   "metadata": {},
   "source": [
    "# Exercice2.5"
   ]
  },
  {
   "cell_type": "markdown",
   "id": "295fe3e6-8990-4f1b-af60-19290a7b3790",
   "metadata": {},
   "source": [
    "In this exercice i choosed to use correlation function embedded in Python "
   ]
  },
  {
   "cell_type": "code",
   "execution_count": 171,
   "id": "9794bdae-9c69-4f36-924b-eb7feed57b82",
   "metadata": {},
   "outputs": [
    {
     "name": "stdout",
     "output_type": "stream",
     "text": [
      "All Correlations Sorted from Lowest to Highest:\n",
      "2014  2007    0.888701\n",
      "2015  2007    0.895096\n",
      "2007  2013    0.899820\n",
      "2012  2007    0.914913\n",
      "2015  2000    0.915901\n",
      "2000  2014    0.918951\n",
      "2014  2006    0.919693\n",
      "2007  2019    0.921995\n",
      "2015  2006    0.922457\n",
      "2007  2017    0.923014\n",
      "dtype: float64\n",
      "\n",
      "Top 10 Strongest Correlations:\n",
      "2017  2019                   0.996564\n",
      "2005  2004                   0.997339\n",
      "2020  2018                   0.997389\n",
      "2018  2017                   0.997460\n",
      "2020  2019                   0.997786\n",
      "2016  2017                   0.997995\n",
      "2004  2003                   0.998127\n",
      "2019  2018                   0.999574\n",
      "Sum   Percentage of Total    1.000000\n",
      "Year  Year                        NaN\n",
      "dtype: float64\n"
     ]
    }
   ],
   "source": [
    "# Drop non-numeric columns and rows with missing 'Year' values\n",
    "data_cleaned = data_cleaned.dropna(subset=['Year'])\n",
    "\n",
    "# Convert all columns except 'Year' to numeric, forcing errors to NaN\n",
    "data_cleaned = data_cleaned.apply(pd.to_numeric, errors='coerce', axis=1)\n",
    "\n",
    "# Calculate the correlation matrix with numeric-only data\n",
    "correlation_matrix = data_cleaned.corr()\n",
    "\n",
    "# Flatten the correlation matrix and sort to see all correlations\n",
    "all_correlations = correlation_matrix.unstack().sort_values(ascending=True).drop_duplicates()\n",
    "\n",
    "# Display the weakest correlations\n",
    "print(\"All Correlations Sorted from Lowest to Highest:\")\n",
    "print(all_correlations.head(10))\n",
    "\n",
    "# Display the strongest correlations\n",
    "print(\"\\nTop 10 Strongest Correlations:\")\n",
    "print(all_correlations.tail(10))"
   ]
  },
  {
   "cell_type": "markdown",
   "id": "4d6387a3-9291-410b-a536-5c2c0f835cba",
   "metadata": {},
   "source": [
    "==> according to the flatened correlation matrix, the strongest correlation is 2019-2018 ==> 0.999574.\n",
    "The weekest are 2007 and 2014: 0.88 and 2007 and 2015: 0.89 and 2013 and 2007: 0.89 even those are the weekest but it is still high and close to 1 ! it indicates that the variable years are related / the data is very hoomogenous over time.We conclude also that the data may indicate similar trends from year to year.\n"
   ]
  },
  {
   "cell_type": "markdown",
   "id": "f06eda6c-d0c9-47a6-88b0-b9f2d34ca2fa",
   "metadata": {},
   "source": [
    "# Exercice 2.6"
   ]
  },
  {
   "cell_type": "code",
   "execution_count": 172,
   "id": "07c2ded8-e5ab-4ba4-91ab-6cfe9c88e83d",
   "metadata": {},
   "outputs": [
    {
     "name": "stdout",
     "output_type": "stream",
     "text": [
      "                            OLS Regression Results                            \n",
      "==============================================================================\n",
      "Dep. Variable:                   2021   R-squared:                       0.987\n",
      "Model:                            OLS   Adj. R-squared:                  0.985\n",
      "Method:                 Least Squares   F-statistic:                     568.0\n",
      "Date:                Sat, 26 Oct 2024   Prob (F-statistic):          3.74e-140\n",
      "Time:                        00:20:11   Log-Likelihood:                -1146.8\n",
      "No. Observations:                 184   AIC:                             2338.\n",
      "Df Residuals:                     162   BIC:                             2408.\n",
      "Df Model:                          21                                         \n",
      "Covariance Type:            nonrobust                                         \n",
      "==============================================================================\n",
      "                 coef    std err          t      P>|t|      [0.025      0.975]\n",
      "------------------------------------------------------------------------------\n",
      "const         22.6360     11.101      2.039      0.043       0.716      44.557\n",
      "2000          -0.0247      0.036     -0.678      0.499      -0.097       0.047\n",
      "2001           0.0557      0.043      1.296      0.197      -0.029       0.141\n",
      "2002          -0.0248      0.027     -0.923      0.357      -0.078       0.028\n",
      "2003          -0.0727      0.041     -1.781      0.077      -0.153       0.008\n",
      "2004           0.0461      0.054      0.859      0.392      -0.060       0.152\n",
      "2005           0.1456      0.061      2.395      0.018       0.026       0.266\n",
      "2006           0.0496      0.046      1.078      0.283      -0.041       0.140\n",
      "2007          -0.0423      0.024     -1.778      0.077      -0.089       0.005\n",
      "2008           0.0390      0.055      0.711      0.478      -0.069       0.147\n",
      "2009           0.0354      0.041      0.861      0.391      -0.046       0.117\n",
      "2010          -0.0917      0.032     -2.826      0.005      -0.156      -0.028\n",
      "2011           0.0527      0.039      1.367      0.174      -0.023       0.129\n",
      "2012           0.0683      0.031      2.206      0.029       0.007       0.129\n",
      "2013          -0.0413      0.026     -1.576      0.117      -0.093       0.010\n",
      "2014        2.254e-05      0.013      0.002      0.999      -0.026       0.026\n",
      "2015           0.0086      0.004      2.312      0.022       0.001       0.016\n",
      "2016          -0.0037      0.041     -0.090      0.928      -0.085       0.078\n",
      "2017           0.0344      0.051      0.679      0.498      -0.066       0.135\n",
      "2018           0.0375      0.059      0.635      0.526      -0.079       0.154\n",
      "2019           0.0053      0.056      0.094      0.925      -0.106       0.116\n",
      "2020           0.4596      0.079      5.781      0.000       0.303       0.617\n",
      "==============================================================================\n",
      "Omnibus:                       30.087   Durbin-Watson:                   1.964\n",
      "Prob(Omnibus):                  0.000   Jarque-Bera (JB):               51.202\n",
      "Skew:                           0.842   Prob(JB):                     7.61e-12\n",
      "Kurtosis:                       4.961   Cond. No.                     2.56e+04\n",
      "==============================================================================\n",
      "\n",
      "Notes:\n",
      "[1] Standard Errors assume that the covariance matrix of the errors is correctly specified.\n",
      "[2] The condition number is large, 2.56e+04. This might indicate that there are\n",
      "strong multicollinearity or other numerical problems.\n"
     ]
    }
   ],
   "source": [
    "import statsmodels.api as sm\n",
    "import pandas as pd\n",
    "\n",
    "# Assuming 'data_cleaned' is your dataframe\n",
    "\n",
    "# Select the independent variables (predictors) - data from 2000 to 2020\n",
    "X = data_cleaned[['2000', '2001', '2002', '2003', '2004', '2005', '2006', '2007', \n",
    "                  '2008', '2009', '2010', '2011', '2012', '2013', '2014', '2015', \n",
    "                  '2016', '2017', '2018', '2019', '2020']]\n",
    "\n",
    "# Select the dependent variable (target) - data from 2021\n",
    "y = data_cleaned['2021']\n",
    "\n",
    "# Fill missing values with the column mean (imputation)\n",
    "X = X.fillna(X.mean())\n",
    "y = y.fillna(y.mean())\n",
    "\n",
    "# Add a constant to the independent variables matrix (for the intercept)\n",
    "X = sm.add_constant(X)\n",
    "\n",
    "# Fit the multiple linear regression model\n",
    "model = sm.OLS(y, X).fit()\n",
    "\n",
    "# Display the model summary\n",
    "print(model.summary())\n"
   ]
  },
  {
   "cell_type": "markdown",
   "id": "d1d8910b-6bd7-475f-81c6-d7151870e3b5",
   "metadata": {},
   "source": [
    "ANALYSE :\n",
    "TOTALT=−1,428,000+727.67×Year\n",
    "\n",
    "Year is not very strong predictor of totalt since the R squared is only 2,2 %\n",
    "P value is very high 0.515 does mean that year does not explain tatlt .\n",
    "The model is not good fit and maybe other variable is needed to explain total "
   ]
  },
  {
   "cell_type": "markdown",
   "id": "0232090f-8eb9-41e8-b80a-12787b4f42b7",
   "metadata": {},
   "source": [
    "Based on the OLS model the linear regression model based on the coef  is :\n",
    "2021=22.6360+(−0.0247)⋅2000+0.0557⋅2001+(−0.0248)⋅2002+⋯+0.4596⋅2020\n",
    "R squared = 0.987  => 98.7% of the variance in the year 2021  can be explained by 2000-2020 datas"
   ]
  }
 ],
 "metadata": {
  "kernelspec": {
   "display_name": "Python 3 (ipykernel)",
   "language": "python",
   "name": "python3"
  },
  "language_info": {
   "codemirror_mode": {
    "name": "ipython",
    "version": 3
   },
   "file_extension": ".py",
   "mimetype": "text/x-python",
   "name": "python",
   "nbconvert_exporter": "python",
   "pygments_lexer": "ipython3",
   "version": "3.9.19"
  }
 },
 "nbformat": 4,
 "nbformat_minor": 5
}
